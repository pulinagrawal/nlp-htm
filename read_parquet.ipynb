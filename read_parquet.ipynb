{
 "cells": [
  {
   "cell_type": "code",
   "execution_count": 1,
   "metadata": {},
   "outputs": [],
   "source": [
    "import pandas as pd"
   ]
  },
  {
   "cell_type": "code",
   "execution_count": 4,
   "metadata": {},
   "outputs": [],
   "source": [
    "df = pd.read_parquet('train-00000-of-00001-34df73631d1c6428.parquet')"
   ]
  },
  {
   "cell_type": "code",
   "execution_count": 5,
   "metadata": {},
   "outputs": [
    {
     "data": {
      "text/html": [
       "<div>\n",
       "<style scoped>\n",
       "    .dataframe tbody tr th:only-of-type {\n",
       "        vertical-align: middle;\n",
       "    }\n",
       "\n",
       "    .dataframe tbody tr th {\n",
       "        vertical-align: top;\n",
       "    }\n",
       "\n",
       "    .dataframe thead th {\n",
       "        text-align: right;\n",
       "    }\n",
       "</style>\n",
       "<table border=\"1\" class=\"dataframe\">\n",
       "  <thead>\n",
       "    <tr style=\"text-align: right;\">\n",
       "      <th></th>\n",
       "      <th>user</th>\n",
       "      <th>chip2</th>\n",
       "    </tr>\n",
       "  </thead>\n",
       "  <tbody>\n",
       "    <tr>\n",
       "      <th>0</th>\n",
       "      <td>I've heard that it's a good idea to have a wil...</td>\n",
       "      <td>A will is a legal document that specifies how ...</td>\n",
       "    </tr>\n",
       "    <tr>\n",
       "      <th>1</th>\n",
       "      <td>How do I find a job?\\n\\n</td>\n",
       "      <td>The best way to find a job is to create a stro...</td>\n",
       "    </tr>\n",
       "    <tr>\n",
       "      <th>2</th>\n",
       "      <td>Produce a detailed written description of a gl...</td>\n",
       "      <td>Circular in shape, the floor is completely mad...</td>\n",
       "    </tr>\n",
       "    <tr>\n",
       "      <th>3</th>\n",
       "      <td>I have a sprained ankle and need to know what ...</td>\n",
       "      <td>You may want to try some ice therapy, which wi...</td>\n",
       "    </tr>\n",
       "    <tr>\n",
       "      <th>4</th>\n",
       "      <td>How do you roast a turkey?\\n\\n</td>\n",
       "      <td>To roast a turkey, start by preheating your ov...</td>\n",
       "    </tr>\n",
       "  </tbody>\n",
       "</table>\n",
       "</div>"
      ],
      "text/plain": [
       "                                                user  \\\n",
       "0  I've heard that it's a good idea to have a wil...   \n",
       "1                           How do I find a job?\\n\\n   \n",
       "2  Produce a detailed written description of a gl...   \n",
       "3  I have a sprained ankle and need to know what ...   \n",
       "4                     How do you roast a turkey?\\n\\n   \n",
       "\n",
       "                                               chip2  \n",
       "0  A will is a legal document that specifies how ...  \n",
       "1  The best way to find a job is to create a stro...  \n",
       "2  Circular in shape, the floor is completely mad...  \n",
       "3  You may want to try some ice therapy, which wi...  \n",
       "4  To roast a turkey, start by preheating your ov...  "
      ]
     },
     "execution_count": 5,
     "metadata": {},
     "output_type": "execute_result"
    }
   ],
   "source": [
    "df.head()"
   ]
  },
  {
   "cell_type": "code",
   "execution_count": 18,
   "metadata": {},
   "outputs": [
    {
     "name": "stderr",
     "output_type": "stream",
     "text": [
      "210289it [00:05, 37057.05it/s]\n"
     ]
    }
   ],
   "source": [
    "from tqdm import tqdm\n",
    "\n",
    "with open('OIG-small-chip2.txt', 'w') as f:\n",
    "    for i, text in tqdm(df.iterrows()):\n",
    "        f.writelines(text.user + '\\n'+ text.chip2 + '\\n\\n')"
   ]
  }
 ],
 "metadata": {
  "kernelspec": {
   "display_name": "htm",
   "language": "python",
   "name": "python3"
  },
  "language_info": {
   "codemirror_mode": {
    "name": "ipython",
    "version": 3
   },
   "file_extension": ".py",
   "mimetype": "text/x-python",
   "name": "python",
   "nbconvert_exporter": "python",
   "pygments_lexer": "ipython3",
   "version": "3.11.9"
  }
 },
 "nbformat": 4,
 "nbformat_minor": 2
}
